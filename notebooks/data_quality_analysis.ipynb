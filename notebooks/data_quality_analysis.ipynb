{
 "cells": [
  {
   "cell_type": "markdown",
   "metadata": {},
   "source": [
    "# Data Quality Analysis Notebook\n",
    "\n",
    "This notebook demonstrates data quality monitoring and analysis techniques for our data pipeline."
   ]
  },
  {
   "cell_type": "code",
   "execution_count": null,
   "metadata": {},
   "source": [
    "import pandas as pd\n",
    "import plotly.express as px\n",
    "from datetime import datetime, timedelta\n",
    "import boto3\n",
    "import great_expectations as ge"
   ]
  },
  {
   "cell_type": "markdown",
   "metadata": {},
   "source": [
    "## 1. Data Freshness Analysis"
   ]
  },
  {
   "cell_type": "code",
   "execution_count": null,
   "metadata": {},
   "source": [
    "def analyze_data_freshness(table_name):\n",
    "    query = f\"\"\"\n",
    "    SELECT \n",
    "        date_trunc('hour', created_at) as hour,\n",
    "        count(*) as record_count\n",
    "    FROM {table_name}\n",
    "    WHERE created_at >= current_date - interval '7 days'\n",
    "    GROUP BY 1\n",
    "    ORDER BY 1\n",
    "    \"\"\"\n",
    "    \n",
    "    # Execute query and create visualization\n",
    "    df = pd.read_sql(query, connection)\n",
    "    fig = px.line(df, x='hour', y='record_count', title=f'Data Freshness - {table_name}')\n",
    "    return fig"
   ]
  },
  {
   "cell_type": "markdown",
   "metadata": {},
   "source": [
    "## 2. Data Quality Metrics"
   ]
  },
  {
   "cell_type": "code",
   "execution_count": null,
   "metadata": {},
   "source": [
    "def calculate_quality_metrics(df):\n",
    "    metrics = {\n",
    "        'total_rows': len(df),\n",
    "        'null_percentage': df.isnull().mean() * 100,\n",
    "        'duplicate_percentage': df.duplicated().mean() * 100,\n",
    "        'unique_values': df.nunique()\n",
    "    }\n",
    "    return pd.DataFrame(metrics)"
   ]
  },
  {
   "cell_type": "markdown",
   "metadata": {},
   "source": [
    "## 3. Anomaly Detection"
   ]
  },
  {
   "cell_type": "code",
   "execution_count": null,
   "metadata": {},
   "source": [
    "def detect_anomalies(df, column, window=24):\n",
    "    rolling_mean = df[column].rolling(window=window).mean()\n",
    "    rolling_std = df[column].rolling(window=window).std()\n",
    "    \n",
    "    anomalies = df[abs(df[column] - rolling_mean) > (3 * rolling_std)]\n",
    "    return anomalies"
   ]
  }
 ],
 "metadata": {
  "kernelspec": {
   "display_name": "Python 3",
   "language": "python",
   "name": "python3"
  }
 }
}
